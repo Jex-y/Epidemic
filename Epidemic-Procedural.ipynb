{
 "cells": [
  {
   "cell_type": "code",
   "execution_count": 1,
   "metadata": {},
   "outputs": [],
   "source": [
    "import numpy as np  # This libary is used to do maths faster and in fewer lines of code. Most of scientifiy python is based on it.\n",
    "import matplotlib.pyplot as plt # This one is used to generate the graph. \n",
    "%matplotlib notebook\n",
    "# This means make the graph in notebook mode so it is displayed properly."
   ]
  },
  {
   "cell_type": "code",
   "execution_count": 2,
   "metadata": {},
   "outputs": [],
   "source": [
    "# Set up our variables\n",
    "# Change these and see what happens \n",
    "population       = 1.0   \n",
    "infection_rate   = 1.6   # The rate at which people are infected in terms of the number of people infected.\n",
    "recovery_rate    = 0.15  # The rate at which people recover in terms of the number of people infected. \n",
    "infected         = 0.01  # The proportion of the population infected.\n",
    "susceptible      = population - infected\n",
    "recovered        = 0     # The proportion of the population that have been infected and recovered (assumed to be immune).\n",
    "time             = 0     \n",
    "dt               = 0.05   \n",
    "max_time         = 25"
   ]
  },
  {
   "cell_type": "code",
   "execution_count": 3,
   "metadata": {},
   "outputs": [],
   "source": [
    "# Setting up the differntial equations\n",
    "def susceptible_diff(infection_rate, infected, susceptible):\n",
    "    # Change the number of people susceptible by removing the people who would have been infected.\n",
    "    return -1 * infection_rate * infected * susceptible \n",
    "\n",
    "def infected_diff(infection_rate, recovery_rate, infected, susceptible):\n",
    "    # Change the number infected by adding the people from the susceptible population who just got infected and removing the\n",
    "    # ones that have just recovered.\n",
    "    return (infection_rate * susceptible * infected) - (recovery_rate * infected)\n",
    "\n",
    "def recovered_diff(recovery_rate, infected):\n",
    "    # Change the number recovered by adding the number of people who just recovered. \n",
    "    return recovery_rate * infected"
   ]
  },
  {
   "cell_type": "code",
   "execution_count": 4,
   "metadata": {},
   "outputs": [],
   "source": [
    "log = np.zeros((int(max_time/dt),4)) # This is setting up a 2 dimensional array to track the values over time so that they can \n",
    "                                     # be graphed later. \n",
    "index = 0\n",
    "\n",
    "while time <= max_time:\n",
    "    susceptible  += susceptible_diff(infection_rate, infected, susceptible)              * dt # Adding the calcuated values,\n",
    "    infected     += infected_diff(infection_rate, recovery_rate, infected, susceptible)  * dt # multiplied by dt.\n",
    "    recovered    += recovered_diff(recovery_rate, infected)                              * dt\n",
    "    time         += dt\n",
    "    \n",
    "    log[index] = (time, susceptible, infected, recovered)\n",
    "    index += 1"
   ]
  },
  {
   "cell_type": "code",
   "execution_count": 5,
   "metadata": {},
   "outputs": [
    {
     "data": {
      "image/png": "[encoded data removed]",
      "text/plain": [
       "<Figure size 432x288 with 1 Axes>"
      ]
     },
     "metadata": {
      "needs_background": "light"
     },
     "output_type": "display_data"
    }
   ],
   "source": [
    "# Graphing the values over time. \n",
    "plt.plot(log[:,0], log[:,1], color = \"blue\")  # Suceptible\n",
    "plt.plot(log[:,0], log[:,2], color = \"red\")   # Infected\n",
    "plt.plot(log[:,0], log[:,3], color = \"green\") # Recovered\n",
    "_  = plt.legend([\"susceptible\",\"infected\",\"recovered\"])"
   ]
  },
  {
   "cell_type": "markdown",
   "metadata": {},
   "source": [
    "Now, using this as a base we can make an interactive version where you can change the values while it is running. Don't worry about the code for this, just see what the different values do to the curve. "
   ]
  },
  {
   "cell_type": "code",
   "execution_count": null,
   "metadata": {},
   "outputs": [],
   "source": [
    "from matplotlib.widgets import Slider, Button, RadioButtons\n",
    "fig, ax = plt.subplots()"
   ]
  }
 ],
 "metadata": {
  "kernelspec": {
   "display_name": "Python 3",
   "language": "python",
   "name": "python3"
  },
  "language_info": {
   "codemirror_mode": {
    "name": "ipython",
    "version": 3
   },
   "file_extension": ".py",
   "mimetype": "text/x-python",
   "name": "python",
   "nbconvert_exporter": "python",
   "pygments_lexer": "ipython3",
   "version": "3.7.3"
  }
 },
 "nbformat": 4,
 "nbformat_minor": 2
}
